{
 "cells": [
  {
   "cell_type": "markdown",
   "id": "922f914b",
   "metadata": {},
   "source": [
    "# Problem_Statement :-- \n",
    "##### Churn Prediction is one of the most popular big data use cases in business.It consist of detecting customers who are likely to cancel a subscription to a service.\n",
    "##### Churn is a problem for telecom companies because it is more expensive to acquire a new customer than to keep your existing one from leaving"
   ]
  },
  {
   "cell_type": "markdown",
   "id": "c77118b5",
   "metadata": {},
   "source": [
    "# OBJECTIVE OF THE PROJECT :-\n",
    "#### >>To predict customer churn\n",
    "#### >>Highlighting the main variables/factors influencing customer churn\n",
    "#### >>Use various ML algorithms to build prediction models,evaluates the accuracy and performance of these models.\n",
    "#### >>Finding out the best model for our business case & providing executive summary"
   ]
  },
  {
   "cell_type": "markdown",
   "id": "dea67bd3",
   "metadata": {},
   "source": [
    "## Importing libraries and Loading the DATASET"
   ]
  },
  {
   "cell_type": "code",
   "execution_count": null,
   "id": "cda5d843",
   "metadata": {},
   "outputs": [],
   "source": [
    "import pandas as pd\n",
    "import numpy as np\n",
    "import matplotlib.pyplot as plt"
   ]
  },
  {
   "cell_type": "code",
   "execution_count": null,
   "id": "686cd03b",
   "metadata": {},
   "outputs": [],
   "source": [
    "df = pd.read_csv(\"telecommunications_churn.csv\")"
   ]
  },
  {
   "cell_type": "code",
   "execution_count": null,
   "id": "802b1770",
   "metadata": {},
   "outputs": [],
   "source": [
    "df.head()"
   ]
  },
  {
   "cell_type": "markdown",
   "id": "ffd1775c",
   "metadata": {},
   "source": [
    "## Data Preprocessing "
   ]
  },
  {
   "cell_type": "code",
   "execution_count": null,
   "id": "8d95613e",
   "metadata": {},
   "outputs": [],
   "source": [
    "df.info()"
   ]
  },
  {
   "cell_type": "code",
   "execution_count": null,
   "id": "f505f7eb",
   "metadata": {},
   "outputs": [],
   "source": [
    "df.shape"
   ]
  },
  {
   "cell_type": "code",
   "execution_count": null,
   "id": "411a269e",
   "metadata": {},
   "outputs": [],
   "source": [
    "df.isnull().sum()"
   ]
  },
  {
   "cell_type": "code",
   "execution_count": null,
   "id": "f3563fe8",
   "metadata": {},
   "outputs": [],
   "source": [
    "df.duplicated().sum()"
   ]
  },
  {
   "cell_type": "markdown",
   "id": "50dbc4d9",
   "metadata": {},
   "source": [
    "## Exploratory Data Analysis[EDA]"
   ]
  },
  {
   "cell_type": "code",
   "execution_count": null,
   "id": "532c4986",
   "metadata": {},
   "outputs": [],
   "source": [
    "from autoviz.AutoViz_Class import AutoViz_Class"
   ]
  },
  {
   "cell_type": "code",
   "execution_count": null,
   "id": "9d4cc76e",
   "metadata": {},
   "outputs": [],
   "source": [
    "%matplotlib inline    \n",
    "av = AutoViz_Class()\n",
    "df_av = av.AutoViz(\"telecommunications_churn.csv\")"
   ]
  },
  {
   "cell_type": "markdown",
   "id": "2bb03833",
   "metadata": {},
   "source": [
    "## Feature Engineering"
   ]
  },
  {
   "cell_type": "code",
   "execution_count": null,
   "id": "e491ca4d",
   "metadata": {},
   "outputs": [],
   "source": [
    "#### Feature Engineerin method-1\n",
    "df.corr()['churn']"
   ]
  },
  {
   "cell_type": "code",
   "execution_count": null,
   "id": "8f77691e",
   "metadata": {},
   "outputs": [],
   "source": [
    "X = df.iloc[:,0:18]\n",
    "Y = df['churn']"
   ]
  },
  {
   "cell_type": "code",
   "execution_count": null,
   "id": "e8af0edb",
   "metadata": {},
   "outputs": [],
   "source": [
    "X"
   ]
  },
  {
   "cell_type": "code",
   "execution_count": null,
   "id": "9b25f007",
   "metadata": {},
   "outputs": [],
   "source": [
    "#### Feature Engineering method-2\n",
    "from sklearn.feature_selection import RFE\n",
    "from sklearn.tree import DecisionTreeClassifier\n"
   ]
  },
  {
   "cell_type": "code",
   "execution_count": null,
   "id": "42e4eb1a",
   "metadata": {},
   "outputs": [],
   "source": [
    "model = DecisionTreeClassifier()"
   ]
  },
  {
   "cell_type": "code",
   "execution_count": null,
   "id": "dcf81705",
   "metadata": {},
   "outputs": [],
   "source": [
    "rfe = RFE(model,n_features_to_select = 6)\n",
    "fit = rfe.fit(X,Y)"
   ]
  },
  {
   "cell_type": "code",
   "execution_count": null,
   "id": "563367ad",
   "metadata": {},
   "outputs": [],
   "source": [
    "pd.DataFrame({'Columns':X.columns,\"Ranking\":fit.ranking_})"
   ]
  },
  {
   "cell_type": "code",
   "execution_count": null,
   "id": "133feb4d",
   "metadata": {},
   "outputs": [],
   "source": [
    "df.corr()['churn']"
   ]
  },
  {
   "cell_type": "markdown",
   "id": "509b3569",
   "metadata": {},
   "source": [
    "###### We are comparing with correlation method and RFE method.There is column which have less correlation with thetarget variable.Hencge we are droping the respective columns (evening-calls,night-calls)"
   ]
  },
  {
   "cell_type": "code",
   "execution_count": null,
   "id": "f75d3076",
   "metadata": {},
   "outputs": [],
   "source": [
    "df.drop(['evening_calls','night_calls'],axis =1,inplace= True)"
   ]
  },
  {
   "cell_type": "code",
   "execution_count": null,
   "id": "05982325",
   "metadata": {},
   "outputs": [],
   "source": [
    "df.head()"
   ]
  },
  {
   "cell_type": "code",
   "execution_count": null,
   "id": "48b83d4a",
   "metadata": {},
   "outputs": [],
   "source": [
    "df.shape"
   ]
  },
  {
   "cell_type": "markdown",
   "id": "b807384b",
   "metadata": {},
   "source": [
    "### Feature Selection"
   ]
  },
  {
   "cell_type": "code",
   "execution_count": null,
   "id": "7bbb4b14",
   "metadata": {},
   "outputs": [],
   "source": [
    "x = df.iloc[:,0:16]\n",
    "y = df['churn']"
   ]
  },
  {
   "cell_type": "markdown",
   "id": "d137efae",
   "metadata": {},
   "source": [
    "### Feature Scaling"
   ]
  },
  {
   "cell_type": "code",
   "execution_count": null,
   "id": "bfcffe3f",
   "metadata": {},
   "outputs": [],
   "source": [
    "from sklearn.preprocessing import StandardScaler\n",
    "sc = StandardScaler()\n",
    "x = sc.fit_transform(x)"
   ]
  },
  {
   "cell_type": "markdown",
   "id": "33be35af",
   "metadata": {},
   "source": [
    "### Train Test Split"
   ]
  },
  {
   "cell_type": "code",
   "execution_count": null,
   "id": "312254ca",
   "metadata": {},
   "outputs": [],
   "source": [
    "from sklearn.model_selection import train_test_split\n",
    "x_train,x_test,y_train, y_test = train_test_split(x,y,train_size=0.65,random_state=42)"
   ]
  },
  {
   "cell_type": "markdown",
   "id": "9caa6a5a",
   "metadata": {},
   "source": [
    "# MODEL BUILDING"
   ]
  },
  {
   "cell_type": "code",
   "execution_count": null,
   "id": "7b3b8ec4",
   "metadata": {},
   "outputs": [],
   "source": [
    "from sklearn.linear_model import LogisticRegression\n",
    "from sklearn.metrics import confusion_matrix\n",
    "from sklearn.model_selection import train_test_split\n",
    "from sklearn.tree import DecisionTreeClassifier\n",
    "from sklearn import tree\n",
    "from sklearn.model_selection import KFold\n",
    "from sklearn.model_selection import cross_val_score\n",
    "from sklearn.neighbors import KNeighborsClassifier\n",
    "from sklearn.metrics import classification_report\n",
    "from sklearn.ensemble import RandomForestClassifier\n",
    "from xgboost import XGBClassifier\n",
    "from sklearn.svm import SVC"
   ]
  },
  {
   "cell_type": "code",
   "execution_count": null,
   "id": "62f9177d",
   "metadata": {},
   "outputs": [],
   "source": [
    "model = []\n",
    "model.append(('LR',LogisticRegression()))\n",
    "model.append(('KNN',KNeighborsClassifier()))\n",
    "model.append(('RF',RandomForestClassifier()))\n",
    "model.append(('XGBM',XGBClassifier()))\n",
    "model.append(('SVM',SVC()))\n",
    "model.append(('DT',DecisionTreeClassifier()))"
   ]
  },
  {
   "cell_type": "code",
   "execution_count": null,
   "id": "32c4ed5a",
   "metadata": {},
   "outputs": [],
   "source": [
    "results = []\n",
    "names = []\n",
    "\n",
    "for name, models in model:\n",
    "\tkfold = KFold(n_splits=10)\n",
    "\tcv_results = cross_val_score(models,x,y,cv=kfold, scoring='accuracy')\n",
    "\tresults.append(cv_results)\n",
    "\tnames.append(name)\n",
    "\tmsg = \"%s: %f (%f)\" % (name, cv_results.mean(), cv_results.std())\n",
    "\tprint(msg)"
   ]
  },
  {
   "cell_type": "markdown",
   "id": "9668935e",
   "metadata": {},
   "source": [
    "# XGBOOST and RANDOM FOREST has high accuracy when compared to other models"
   ]
  },
  {
   "cell_type": "markdown",
   "id": "e969b7f2",
   "metadata": {},
   "source": [
    "### Hyper Parameter Optimization"
   ]
  },
  {
   "cell_type": "code",
   "execution_count": null,
   "id": "5e374c4e",
   "metadata": {},
   "outputs": [],
   "source": [
    "from sklearn.model_selection import GridSearchCV, KFold\n",
    "from sklearn.ensemble import RandomForestClassifier\n",
    "\n",
    "kfold = KFold(n_splits=10)\n",
    "f_model = RandomForestClassifier()\n",
    "\n",
    "param = {\"n_estimators\":[50,100,150,200],\"criterion\":[\"gini\",\"entropy\"]}\n",
    "\n",
    "grid = GridSearchCV(estimator = f_model,param_grid = param,cv = KFold())"
   ]
  },
  {
   "cell_type": "code",
   "execution_count": null,
   "id": "242cff3b",
   "metadata": {},
   "outputs": [],
   "source": [
    "grid_result = grid.fit(x_train, y_train)"
   ]
  },
  {
   "cell_type": "code",
   "execution_count": null,
   "id": "a0132a1c",
   "metadata": {},
   "outputs": [],
   "source": [
    "print('Best : {}, using {}'.format(grid_result.best_score_,grid_result.best_params_))"
   ]
  },
  {
   "cell_type": "code",
   "execution_count": null,
   "id": "09a7044d",
   "metadata": {},
   "outputs": [],
   "source": [
    "# Building the final model with best parameter\n",
    "model_final = RandomForestClassifier(criterion= 'gini', n_estimators= 150)\n",
    "model_final.fit(x_train, y_train)"
   ]
  },
  {
   "cell_type": "code",
   "execution_count": null,
   "id": "7dc63357",
   "metadata": {},
   "outputs": [],
   "source": [
    "# Predicting the model using test data\n",
    "pred=model_final.predict(x_test)"
   ]
  },
  {
   "cell_type": "code",
   "execution_count": null,
   "id": "42eb38e7",
   "metadata": {},
   "outputs": [],
   "source": [
    "#Accuracy for the test data\n",
    "from sklearn.metrics import accuracy_score\n",
    "accuracy_score(y_test,pred)"
   ]
  },
  {
   "cell_type": "code",
   "execution_count": null,
   "id": "3c74e1b2",
   "metadata": {},
   "outputs": [],
   "source": [
    "#confusion metrix\n",
    "confusion_matrix(pred,y_test)"
   ]
  },
  {
   "cell_type": "markdown",
   "id": "7d3074db",
   "metadata": {},
   "source": [
    "## Pipeline"
   ]
  },
  {
   "cell_type": "code",
   "execution_count": null,
   "id": "957a7eeb",
   "metadata": {},
   "outputs": [],
   "source": [
    "from sklearn.pipeline import Pipeline\n",
    "from sklearn import set_config\n",
    "import pandas as pd\n",
    "from sklearn.preprocessing import StandardScaler\n",
    "from sklearn.metrics import accuracy_score\n",
    "from sklearn.ensemble import RandomForestClassifier"
   ]
  },
  {
   "cell_type": "code",
   "execution_count": null,
   "id": "006ba3bc",
   "metadata": {},
   "outputs": [],
   "source": [
    "steps=[(\"Standard Scaler\",StandardScaler()),\n",
    "      (\"Model\",RandomForestClassifier(criterion= 'gini', n_estimators= 150))]"
   ]
  },
  {
   "cell_type": "code",
   "execution_count": null,
   "id": "ae095a93",
   "metadata": {},
   "outputs": [],
   "source": [
    "pipe=Pipeline(steps)"
   ]
  },
  {
   "cell_type": "code",
   "execution_count": null,
   "id": "7d2f9a8f",
   "metadata": {},
   "outputs": [],
   "source": [
    "#for visualizing the pipeline\n",
    "set_config(display=\"diagram\")\n",
    "pipe"
   ]
  },
  {
   "cell_type": "code",
   "execution_count": null,
   "id": "8aa20585",
   "metadata": {},
   "outputs": [],
   "source": [
    "X = df.drop(\"churn\",axis=1)\n",
    "y = df[\"churn\"]"
   ]
  },
  {
   "cell_type": "code",
   "execution_count": null,
   "id": "b858aa81",
   "metadata": {},
   "outputs": [],
   "source": [
    "X"
   ]
  },
  {
   "cell_type": "code",
   "execution_count": null,
   "id": "fcde00bb",
   "metadata": {},
   "outputs": [],
   "source": [
    "from sklearn_pandas import DataFrameMapper\n",
    "X.columns"
   ]
  },
  {
   "cell_type": "code",
   "execution_count": null,
   "id": "7b305f11",
   "metadata": {},
   "outputs": [],
   "source": [
    "pipe.fit(X,y)"
   ]
  },
  {
   "cell_type": "markdown",
   "id": "af51856b",
   "metadata": {},
   "source": [
    "## Model Saving"
   ]
  },
  {
   "cell_type": "code",
   "execution_count": null,
   "id": "1d264f7a",
   "metadata": {},
   "outputs": [],
   "source": [
    "import pickle\n",
    "f1 = open(\"churn_final_data.pkl\",mode=\"wb\")"
   ]
  },
  {
   "cell_type": "code",
   "execution_count": null,
   "id": "bfd33d55",
   "metadata": {},
   "outputs": [],
   "source": [
    "pickle.dump(pipe,f1)\n",
    "f1.close()"
   ]
  }
 ],
 "metadata": {
  "kernelspec": {
   "display_name": "Python 3 (ipykernel)",
   "language": "python",
   "name": "python3"
  },
  "language_info": {
   "codemirror_mode": {
    "name": "ipython",
    "version": 3
   },
   "file_extension": ".py",
   "mimetype": "text/x-python",
   "name": "python",
   "nbconvert_exporter": "python",
   "pygments_lexer": "ipython3",
   "version": "3.9.12"
  }
 },
 "nbformat": 4,
 "nbformat_minor": 5
}
